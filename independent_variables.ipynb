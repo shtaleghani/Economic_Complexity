{
  "nbformat": 4,
  "nbformat_minor": 0,
  "metadata": {
    "colab": {
      "provenance": [],
      "mount_file_id": "1yEI1uFuacqMC1GmyODxei1_8AXIKwL1_",
      "authorship_tag": "ABX9TyOgJPbLt1k5Erz5uiBiGnwo",
      "include_colab_link": true
    },
    "kernelspec": {
      "name": "python3",
      "display_name": "Python 3"
    }
  },
  "cells": [
    {
      "cell_type": "markdown",
      "metadata": {
        "id": "view-in-github",
        "colab_type": "text"
      },
      "source": [
        "<a href=\"https://colab.research.google.com/github/shtaleghani/economic-complexity/blob/main/independent_variables.ipynb\" target=\"_parent\"><img src=\"https://colab.research.google.com/assets/colab-badge.svg\" alt=\"Open In Colab\"/></a>"
      ]
    },
    {
      "cell_type": "code",
      "metadata": {
        "id": "H8MQaAGrV2-_"
      },
      "source": [
        "import numpy as np\n",
        "import pandas as pd\n",
        "from ecomplexity import ecomplexity\n",
        "import tqdm"
      ],
      "execution_count": null,
      "outputs": []
    },
    {
      "cell_type": "code",
      "metadata": {
        "colab": {
          "base_uri": "https://localhost:8080/"
        },
        "id": "oXz3NeVXWBm9",
        "outputId": "372c46d1-c792-498d-a3b8-792dc649587b"
      },
      "source": [
        "export       = pd.read_csv('/content/drive/MyDrive/2014/2014.8.11.csv')\n",
        "# export        = export.fillna(0)\n",
        "rca_neighbor = pd.read_csv('/content/drive/MyDrive/2014/RCA_neighbor.csv')\n",
        "max_prox     = pd.read_csv('/content/drive/MyDrive/2014/maxprox.csv')\n",
        "gdp          = pd.read_csv('/content/drive/MyDrive/2014/API_NY.GDP.MKTP.CD_DS2_en_csv_v2_2001204.csv')\n",
        "export       = export[['year','location_code','hs_product_code','export_value']]\n",
        "trade_cols   = {'time':'year', 'loc':'location_code', 'prod':'hs_product_code', 'val':'export_value'}\n",
        "cdata        = ecomplexity(export, trade_cols)\n",
        "cdata        = cdata.fillna(0)\n",
        "\n",
        "export_2018  = pd.read_csv('/content/drive/MyDrive/2014/2018hs.csv')\n",
        "export_2018        = export_2018.fillna(0)"
      ],
      "execution_count": null,
      "outputs": [
        {
          "output_type": "stream",
          "text": [
            "2014\n"
          ],
          "name": "stdout"
        }
      ]
    },
    {
      "cell_type": "code",
      "metadata": {
        "id": "efHkfEmwdJBY"
      },
      "source": [
        "export       = export.values\n",
        "rca_neighbor = rca_neighbor.values\n",
        "max_prox     = max_prox.values\n",
        "gdp          = gdp.values\n",
        "# export       = export.values\n",
        "trade_cols   = trade_cols.values\n",
        "cdata        = cdata.values\n",
        "\n",
        "export_2018  = export_2018.values"
      ],
      "execution_count": null,
      "outputs": []
    },
    {
      "cell_type": "code",
      "metadata": {
        "id": "jYG4U-QvXD5u"
      },
      "source": [
        "x_train = np.empty([131432,5],dtype=np.float32)"
      ],
      "execution_count": null,
      "outputs": []
    },
    {
      "cell_type": "code",
      "metadata": {
        "id": "vZ3HAhYKXvvs"
      },
      "source": [
        "x_train[:,0] = ((max_prox.values)[:,4]).copy()\n",
        "x_train[:,1] = ((rca_neighbor.values)[:,3]).copy()\n",
        "x_train[:,3] = ((gdp.values)[:,5]).copy()\n",
        "x_train[:,4] = ((export.values)[:,31]).copy()"
      ],
      "execution_count": null,
      "outputs": []
    },
    {
      "cell_type": "code",
      "metadata": {
        "id": "4Jjn84DVY-b4"
      },
      "source": [
        "y_train = np.empty([131432,1],dtype=np.float32)"
      ],
      "execution_count": null,
      "outputs": []
    },
    {
      "cell_type": "code",
      "metadata": {
        "colab": {
          "base_uri": "https://localhost:8080/"
        },
        "id": "fdAtCYV8anDL",
        "outputId": "652fa396-e5ad-46a1-b040-d3114cf99401"
      },
      "source": [
        "# y = []\n",
        "# for i in tqdm.trange(len(export_2018)):\n",
        "#   expt4 = (((export[:,1] == np.array(export_2018[i,10])) & (export[:,2] == np.array(export_2018[i,21])))*export[:,3]).sum()\n",
        "#   y.append((export_2018[i,10],export_2018[i,21],export_2018[i,31]-expt4))\n",
        "y = []\n",
        "for i in tqdm.trange(len(export)):\n",
        "  if export[i,3] == 0:\n",
        "    continue\n",
        "  expt4 = (((export_2018[:,10] == np.array(export[i,1])) & (export_2018[:,21] == np.array(export[i,2])))*export_2018[:,31]).sum()\n",
        "  y.append((export[i,1],export[i,2],(export[i,3]-expt4)/export[i,3]))"
      ],
      "execution_count": null,
      "outputs": [
        {
          "output_type": "stream",
          "text": [
            "100%|██████████| 131432/131432 [31:07<00:00, 70.39it/s]\n"
          ],
          "name": "stderr"
        }
      ]
    },
    {
      "cell_type": "code",
      "metadata": {
        "id": "061Tpq9VeXRd"
      },
      "source": [
        "y = np.array(y)\n",
        "y = pd.DataFrame(y)\n",
        "y.to_csv('/content/drive/MyDrive/2014/regression2.csv')"
      ],
      "execution_count": null,
      "outputs": []
    },
    {
      "cell_type": "code",
      "metadata": {
        "id": "yck0W2fm9z8B"
      },
      "source": [
        "y = pd.read_csv('/content/drive/MyDrive/2014/regression2.csv')"
      ],
      "execution_count": null,
      "outputs": []
    },
    {
      "cell_type": "code",
      "metadata": {
        "id": "ZgDqP8I69z_I"
      },
      "source": [
        "y = y.values"
      ],
      "execution_count": null,
      "outputs": []
    },
    {
      "cell_type": "code",
      "metadata": {
        "colab": {
          "base_uri": "https://localhost:8080/"
        },
        "id": "7WXME85d90A9",
        "outputId": "c4dff55e-4863-41c0-f7ad-33700e657560"
      },
      "source": [
        "max_p = []\n",
        "for i in tqdm.trange(len(y)):\n",
        "  max_p.append((((np.array(y[i,1]) == max_prox[:,2]) & (np.array(y[i,2]) == max_prox[:,1]) )*max_prox[:,4]).sum())"
      ],
      "execution_count": null,
      "outputs": [
        {
          "output_type": "stream",
          "text": [
            "100%|██████████| 131412/131412 [31:39<00:00, 69.19it/s]\n"
          ],
          "name": "stderr"
        }
      ]
    },
    {
      "cell_type": "code",
      "metadata": {
        "id": "8hHvoSMlKb2G"
      },
      "source": [
        "max_p = np.array(max_p)\n",
        "max_p = pd.DataFrame(max_p)\n",
        "max_p.to_csv('/content/drive/MyDrive/2014/x_maxprox.csv')"
      ],
      "execution_count": null,
      "outputs": []
    },
    {
      "cell_type": "code",
      "metadata": {
        "id": "mdPHufILKb5H"
      },
      "source": [
        "max_p = pd.read_csv('/content/drive/MyDrive/2014/x_maxprox.csv')"
      ],
      "execution_count": null,
      "outputs": []
    },
    {
      "cell_type": "code",
      "metadata": {
        "id": "5FE5dCwrKb_d"
      },
      "source": [
        "max_p = max_p.values"
      ],
      "execution_count": null,
      "outputs": []
    },
    {
      "cell_type": "code",
      "metadata": {
        "colab": {
          "base_uri": "https://localhost:8080/"
        },
        "id": "4csuPSvyVQvN",
        "outputId": "d5a24468-4a8e-4870-ba7e-12d31631d0e6"
      },
      "source": [
        "nrca = []\n",
        "for i in tqdm.trange(len(y)):\n",
        "  nrca.append((((np.array(y[i,1]) == rca_neighbor[:,1]) & (np.array(y[i,2]) == rca_neighbor[:,2]) )*rca_neighbor[:,3]).sum())"
      ],
      "execution_count": null,
      "outputs": [
        {
          "output_type": "stream",
          "text": [
            "100%|██████████| 131412/131412 [31:51<00:00, 68.74it/s]\n"
          ],
          "name": "stderr"
        }
      ]
    },
    {
      "cell_type": "code",
      "metadata": {
        "id": "b-JYoltVcsO6"
      },
      "source": [
        "nrca = np.array(nrca)\n",
        "nrca = pd.DataFrame(nrca)\n",
        "nrca.to_csv('/content/drive/MyDrive/2014/x_nrca.csv')"
      ],
      "execution_count": null,
      "outputs": []
    },
    {
      "cell_type": "code",
      "metadata": {
        "colab": {
          "base_uri": "https://localhost:8080/"
        },
        "id": "L-NgDC-McJOX",
        "outputId": "5a53d514-2337-4170-c560-2e9c2471170f"
      },
      "source": [
        "pci = []\n",
        "for i in tqdm.trange(len(y)):\n",
        "  pci.append((((np.array(y[i,2]) == cdata[:,1])*cdata[:,8]).sum())/(np.array(y[i,2]) == cdata[:,1]).sum())"
      ],
      "execution_count": null,
      "outputs": [
        {
          "output_type": "stream",
          "text": [
            "100%|██████████| 131412/131412 [49:49<00:00, 43.95it/s]\n"
          ],
          "name": "stderr"
        }
      ]
    },
    {
      "cell_type": "code",
      "metadata": {
        "id": "ojzeWiD5kjC_"
      },
      "source": [
        "pci = np.array(pci)\n",
        "pci = pd.DataFrame(pci)\n",
        "pci.to_csv('/content/drive/MyDrive/2014/x_pci.csv')"
      ],
      "execution_count": null,
      "outputs": []
    }
  ]
}