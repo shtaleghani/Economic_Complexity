{
  "nbformat": 4,
  "nbformat_minor": 0,
  "metadata": {
    "colab": {
      "provenance": [],
      "mount_file_id": "153INLwK8PiKsNjB7usOE-I2O_aEN_ehE",
      "authorship_tag": "ABX9TyNxKLkJXEPpqqLRT4zwBoNf",
      "include_colab_link": true
    },
    "kernelspec": {
      "name": "python3",
      "display_name": "Python 3"
    }
  },
  "cells": [
    {
      "cell_type": "markdown",
      "metadata": {
        "id": "view-in-github",
        "colab_type": "text"
      },
      "source": [
        "<a href=\"https://colab.research.google.com/github/shtaleghani/economic-complexity/blob/main/maxprox.ipynb\" target=\"_parent\"><img src=\"https://colab.research.google.com/assets/colab-badge.svg\" alt=\"Open In Colab\"/></a>"
      ]
    },
    {
      "cell_type": "code",
      "metadata": {
        "id": "SXZRJYUgBd8q"
      },
      "source": [
        "import numpy as np\n",
        "import pandas as pd\n",
        "import math"
      ],
      "execution_count": null,
      "outputs": []
    },
    {
      "cell_type": "code",
      "metadata": {
        "colab": {
          "base_uri": "https://localhost:8080/"
        },
        "id": "eo3F3poaGq6g",
        "outputId": "2fa785fa-fe02-42d9-fe2d-bb5b4df39991"
      },
      "source": [
        "pip install ecomplexity"
      ],
      "execution_count": null,
      "outputs": [
        {
          "output_type": "stream",
          "text": [
            "Collecting ecomplexity\n",
            "  Downloading https://files.pythonhosted.org/packages/ae/fb/8ed60b879456e4ccb3474a0d571f13d0e958b1416475eb20bb1c53ca1ada/ecomplexity-0.5.2.tar.gz\n",
            "Requirement already satisfied: pandas>0.23.0 in /usr/local/lib/python3.7/dist-packages (from ecomplexity) (1.1.5)\n",
            "Requirement already satisfied: numpy>1.15.0 in /usr/local/lib/python3.7/dist-packages (from ecomplexity) (1.19.5)\n",
            "Requirement already satisfied: python-dateutil>=2.7.3 in /usr/local/lib/python3.7/dist-packages (from pandas>0.23.0->ecomplexity) (2.8.1)\n",
            "Requirement already satisfied: pytz>=2017.2 in /usr/local/lib/python3.7/dist-packages (from pandas>0.23.0->ecomplexity) (2018.9)\n",
            "Requirement already satisfied: six>=1.5 in /usr/local/lib/python3.7/dist-packages (from python-dateutil>=2.7.3->pandas>0.23.0->ecomplexity) (1.15.0)\n",
            "Building wheels for collected packages: ecomplexity\n",
            "  Building wheel for ecomplexity (setup.py) ... \u001b[?25l\u001b[?25hdone\n",
            "  Created wheel for ecomplexity: filename=ecomplexity-0.5.2-cp37-none-any.whl size=11285 sha256=edf3c6694f405eba8e87c253a6248498267979fcae4ca622c1e8d24c01f92541\n",
            "  Stored in directory: /root/.cache/pip/wheels/8f/2a/40/2d40ee5a1ea87583c28ba1d190185e5669111d6c2aba64847f\n",
            "Successfully built ecomplexity\n",
            "Installing collected packages: ecomplexity\n",
            "Successfully installed ecomplexity-0.5.2\n"
          ],
          "name": "stdout"
        }
      ]
    },
    {
      "cell_type": "code",
      "metadata": {
        "colab": {
          "base_uri": "https://localhost:8080/"
        },
        "id": "N_UUD9MHBrRN",
        "outputId": "dc1e5999-1f6d-425d-afaa-56c66912f49a"
      },
      "source": [
        "import pandas as pd\n",
        "from ecomplexity import ecomplexity\n",
        "from ecomplexity import proximity\n",
        "\n",
        "\n",
        "data = pd.read_csv(\"/content/drive/MyDrive/2014.8.11.csv\")\n",
        "data = data[['year','location_code','hs_product_code','export_value']]\n",
        "\n",
        "trade_cols = {'time':'year', 'loc':'location_code', 'prod':'hs_product_code', 'val':'export_value'}\n",
        "cdata = ecomplexity(data, trade_cols)\n",
        "prox_df = proximity(data, trade_cols)\n",
        "\n",
        "# print(prox_df)\n",
        "# print(cdata)\n",
        "# result.to_csv(\"C:/Users/KPS/Desktop/shirin/result.csv\")\n"
      ],
      "execution_count": null,
      "outputs": [
        {
          "output_type": "stream",
          "text": [
            "2014\n",
            "2014\n"
          ],
          "name": "stdout"
        }
      ]
    },
    {
      "cell_type": "code",
      "metadata": {
        "id": "cd7BMzRxG64H"
      },
      "source": [
        "prox_df = np.array(prox_df)\n",
        "prox_df = pd.DataFrame(prox_df)\n",
        "prox_df.to_csv('/content/drive/MyDrive/2014/prox_df22.12.csv')"
      ],
      "execution_count": null,
      "outputs": []
    },
    {
      "cell_type": "code",
      "metadata": {
        "colab": {
          "base_uri": "https://localhost:8080/"
        },
        "id": "n3I-T3rZiDys",
        "outputId": "82df1ff8-f8c7-43e3-dee8-4e6e9ed8b1c6"
      },
      "source": [
        "cdata"
      ],
      "execution_count": null,
      "outputs": [
        {
          "output_type": "execute_result",
          "data": {
            "text/plain": [
              "array([['ABW', 101, 5000.0, ..., -0.22415741541582124,\n",
              "        0.28917277302716377, 0.2790721533681727],\n",
              "       ['ABW', 102, 0.0, ..., -0.22415741541582124, -0.09704144063420861,\n",
              "        0.0],\n",
              "       ['ABW', 103, 0.0, ..., -0.22415741541582124, 0.6711852623910314,\n",
              "        0.0],\n",
              "       ...,\n",
              "       [0, 9705, 4758.0, ..., 0.0, 0.0, 0.0],\n",
              "       [0, 9706, 80160.0, ..., 0.0, 0.0, 0.0],\n",
              "       [0, 9999, 1605712667.0, ..., 0.0, 0.0, 0.0]], dtype=object)"
            ]
          },
          "metadata": {
            "tags": []
          },
          "execution_count": 8
        }
      ]
    },
    {
      "cell_type": "code",
      "metadata": {
        "id": "Q8tRTxBZG5TP"
      },
      "source": [
        "data = data.fillna(0)\n",
        "cdata = cdata.fillna(0)\n",
        "\n",
        "data = data.values\n",
        "cdata = cdata.values\n",
        "prox = prox_df.values"
      ],
      "execution_count": null,
      "outputs": []
    },
    {
      "cell_type": "code",
      "metadata": {
        "colab": {
          "base_uri": "https://localhost:8080/",
          "height": 513
        },
        "id": "-aN5lddXF62u",
        "outputId": "390854b3-6e2c-44d2-9da2-43b3d1ec7b1f"
      },
      "source": [
        "res = []\n",
        "for i in range(len(data)):\n",
        "\n",
        "  country,code = data[i,1],data[i,2]\n",
        "  a = ((country == cdata[:,0])*cdata[:,12])\n",
        "  b = np.unique(((a>1)*cdata[:,1]))\n",
        "  if b[0] == 0:\n",
        "    b = np.delete(b,0)\n",
        "  temp = np.repeat(code,len(b)).reshape(-1,1)\n",
        "  b = b.reshape(-1,1)\n",
        "  temp = np.concatenate([temp,b],axis=1)\n",
        "  print(i)\n",
        "  maximum = 0\n",
        "  for j in range(len(temp)):\n",
        "    if (((np.array([temp[j,0],temp[j,1]]) == prox[:,1:3])[:,0] & (np.array([temp[j,0],temp[j,1]]) == prox[:,1:3])[:,1])*prox[:,3]).sum() > maximum :\n",
        "      maximum = (((np.array([temp[j,0],temp[j,1]]) == prox[:,1:3])[:,0] & (np.array([temp[j,0],temp[j,1]]) == prox[:,1:3])[:,1])*prox[:,3]).sum()\n",
        "      Index = temp[j,1]\n",
        "\n",
        "\n",
        "\n",
        "\n",
        "  res.append((code,country,Index,maximum))\n"
      ],
      "execution_count": null,
      "outputs": [
        {
          "output_type": "stream",
          "text": [
            "0\n",
            "1\n",
            "2\n",
            "3\n",
            "4\n",
            "5\n",
            "6\n",
            "7\n",
            "8\n",
            "9\n",
            "10\n",
            "11\n",
            "12\n",
            "13\n",
            "14\n",
            "15\n",
            "16\n"
          ],
          "name": "stdout"
        },
        {
          "output_type": "error",
          "ename": "KeyboardInterrupt",
          "evalue": "ignored",
          "traceback": [
            "\u001b[0;31m---------------------------------------------------------------------------\u001b[0m",
            "\u001b[0;31mKeyboardInterrupt\u001b[0m                         Traceback (most recent call last)",
            "\u001b[0;32m<ipython-input-154-bc4f2074595e>\u001b[0m in \u001b[0;36m<module>\u001b[0;34m()\u001b[0m\n\u001b[1;32m     13\u001b[0m   \u001b[0mmaximum\u001b[0m \u001b[0;34m=\u001b[0m \u001b[0;36m0\u001b[0m\u001b[0;34m\u001b[0m\u001b[0;34m\u001b[0m\u001b[0m\n\u001b[1;32m     14\u001b[0m   \u001b[0;32mfor\u001b[0m \u001b[0mj\u001b[0m \u001b[0;32min\u001b[0m \u001b[0mrange\u001b[0m\u001b[0;34m(\u001b[0m\u001b[0mlen\u001b[0m\u001b[0;34m(\u001b[0m\u001b[0mtemp\u001b[0m\u001b[0;34m)\u001b[0m\u001b[0;34m)\u001b[0m\u001b[0;34m:\u001b[0m\u001b[0;34m\u001b[0m\u001b[0;34m\u001b[0m\u001b[0m\n\u001b[0;32m---> 15\u001b[0;31m     \u001b[0;32mif\u001b[0m \u001b[0;34m(\u001b[0m\u001b[0;34m(\u001b[0m\u001b[0;34m(\u001b[0m\u001b[0mnp\u001b[0m\u001b[0;34m.\u001b[0m\u001b[0marray\u001b[0m\u001b[0;34m(\u001b[0m\u001b[0;34m[\u001b[0m\u001b[0mtemp\u001b[0m\u001b[0;34m[\u001b[0m\u001b[0mj\u001b[0m\u001b[0;34m,\u001b[0m\u001b[0;36m0\u001b[0m\u001b[0;34m]\u001b[0m\u001b[0;34m,\u001b[0m\u001b[0mtemp\u001b[0m\u001b[0;34m[\u001b[0m\u001b[0mj\u001b[0m\u001b[0;34m,\u001b[0m\u001b[0;36m1\u001b[0m\u001b[0;34m]\u001b[0m\u001b[0;34m]\u001b[0m\u001b[0;34m)\u001b[0m \u001b[0;34m==\u001b[0m \u001b[0mprox\u001b[0m\u001b[0;34m[\u001b[0m\u001b[0;34m:\u001b[0m\u001b[0;34m,\u001b[0m\u001b[0;36m1\u001b[0m\u001b[0;34m:\u001b[0m\u001b[0;36m3\u001b[0m\u001b[0;34m]\u001b[0m\u001b[0;34m)\u001b[0m\u001b[0;34m[\u001b[0m\u001b[0;34m:\u001b[0m\u001b[0;34m,\u001b[0m\u001b[0;36m0\u001b[0m\u001b[0;34m]\u001b[0m \u001b[0;34m&\u001b[0m \u001b[0;34m(\u001b[0m\u001b[0mnp\u001b[0m\u001b[0;34m.\u001b[0m\u001b[0marray\u001b[0m\u001b[0;34m(\u001b[0m\u001b[0;34m[\u001b[0m\u001b[0mtemp\u001b[0m\u001b[0;34m[\u001b[0m\u001b[0mj\u001b[0m\u001b[0;34m,\u001b[0m\u001b[0;36m0\u001b[0m\u001b[0;34m]\u001b[0m\u001b[0;34m,\u001b[0m\u001b[0mtemp\u001b[0m\u001b[0;34m[\u001b[0m\u001b[0mj\u001b[0m\u001b[0;34m,\u001b[0m\u001b[0;36m1\u001b[0m\u001b[0;34m]\u001b[0m\u001b[0;34m]\u001b[0m\u001b[0;34m)\u001b[0m \u001b[0;34m==\u001b[0m \u001b[0mprox\u001b[0m\u001b[0;34m[\u001b[0m\u001b[0;34m:\u001b[0m\u001b[0;34m,\u001b[0m\u001b[0;36m1\u001b[0m\u001b[0;34m:\u001b[0m\u001b[0;36m3\u001b[0m\u001b[0;34m]\u001b[0m\u001b[0;34m)\u001b[0m\u001b[0;34m[\u001b[0m\u001b[0;34m:\u001b[0m\u001b[0;34m,\u001b[0m\u001b[0;36m1\u001b[0m\u001b[0;34m]\u001b[0m\u001b[0;34m)\u001b[0m\u001b[0;34m*\u001b[0m\u001b[0mprox\u001b[0m\u001b[0;34m[\u001b[0m\u001b[0;34m:\u001b[0m\u001b[0;34m,\u001b[0m\u001b[0;36m3\u001b[0m\u001b[0;34m]\u001b[0m\u001b[0;34m)\u001b[0m\u001b[0;34m.\u001b[0m\u001b[0msum\u001b[0m\u001b[0;34m(\u001b[0m\u001b[0;34m)\u001b[0m \u001b[0;34m>\u001b[0m \u001b[0mmaximum\u001b[0m \u001b[0;34m:\u001b[0m\u001b[0;34m\u001b[0m\u001b[0;34m\u001b[0m\u001b[0m\n\u001b[0m\u001b[1;32m     16\u001b[0m       \u001b[0mmaximum\u001b[0m \u001b[0;34m=\u001b[0m \u001b[0;34m(\u001b[0m\u001b[0;34m(\u001b[0m\u001b[0;34m(\u001b[0m\u001b[0mnp\u001b[0m\u001b[0;34m.\u001b[0m\u001b[0marray\u001b[0m\u001b[0;34m(\u001b[0m\u001b[0;34m[\u001b[0m\u001b[0mtemp\u001b[0m\u001b[0;34m[\u001b[0m\u001b[0mj\u001b[0m\u001b[0;34m,\u001b[0m\u001b[0;36m0\u001b[0m\u001b[0;34m]\u001b[0m\u001b[0;34m,\u001b[0m\u001b[0mtemp\u001b[0m\u001b[0;34m[\u001b[0m\u001b[0mj\u001b[0m\u001b[0;34m,\u001b[0m\u001b[0;36m1\u001b[0m\u001b[0;34m]\u001b[0m\u001b[0;34m]\u001b[0m\u001b[0;34m)\u001b[0m \u001b[0;34m==\u001b[0m \u001b[0mprox\u001b[0m\u001b[0;34m[\u001b[0m\u001b[0;34m:\u001b[0m\u001b[0;34m,\u001b[0m\u001b[0;36m1\u001b[0m\u001b[0;34m:\u001b[0m\u001b[0;36m3\u001b[0m\u001b[0;34m]\u001b[0m\u001b[0;34m)\u001b[0m\u001b[0;34m[\u001b[0m\u001b[0;34m:\u001b[0m\u001b[0;34m,\u001b[0m\u001b[0;36m0\u001b[0m\u001b[0;34m]\u001b[0m \u001b[0;34m&\u001b[0m \u001b[0;34m(\u001b[0m\u001b[0mnp\u001b[0m\u001b[0;34m.\u001b[0m\u001b[0marray\u001b[0m\u001b[0;34m(\u001b[0m\u001b[0;34m[\u001b[0m\u001b[0mtemp\u001b[0m\u001b[0;34m[\u001b[0m\u001b[0mj\u001b[0m\u001b[0;34m,\u001b[0m\u001b[0;36m0\u001b[0m\u001b[0;34m]\u001b[0m\u001b[0;34m,\u001b[0m\u001b[0mtemp\u001b[0m\u001b[0;34m[\u001b[0m\u001b[0mj\u001b[0m\u001b[0;34m,\u001b[0m\u001b[0;36m1\u001b[0m\u001b[0;34m]\u001b[0m\u001b[0;34m]\u001b[0m\u001b[0;34m)\u001b[0m \u001b[0;34m==\u001b[0m \u001b[0mprox\u001b[0m\u001b[0;34m[\u001b[0m\u001b[0;34m:\u001b[0m\u001b[0;34m,\u001b[0m\u001b[0;36m1\u001b[0m\u001b[0;34m:\u001b[0m\u001b[0;36m3\u001b[0m\u001b[0;34m]\u001b[0m\u001b[0;34m)\u001b[0m\u001b[0;34m[\u001b[0m\u001b[0;34m:\u001b[0m\u001b[0;34m,\u001b[0m\u001b[0;36m1\u001b[0m\u001b[0;34m]\u001b[0m\u001b[0;34m)\u001b[0m\u001b[0;34m*\u001b[0m\u001b[0mprox\u001b[0m\u001b[0;34m[\u001b[0m\u001b[0;34m:\u001b[0m\u001b[0;34m,\u001b[0m\u001b[0;36m3\u001b[0m\u001b[0;34m]\u001b[0m\u001b[0;34m)\u001b[0m\u001b[0;34m.\u001b[0m\u001b[0msum\u001b[0m\u001b[0;34m(\u001b[0m\u001b[0;34m)\u001b[0m\u001b[0;34m\u001b[0m\u001b[0;34m\u001b[0m\u001b[0m\n\u001b[1;32m     17\u001b[0m       \u001b[0mIndex\u001b[0m \u001b[0;34m=\u001b[0m \u001b[0mtemp\u001b[0m\u001b[0;34m[\u001b[0m\u001b[0mj\u001b[0m\u001b[0;34m,\u001b[0m\u001b[0;36m1\u001b[0m\u001b[0;34m]\u001b[0m\u001b[0;34m\u001b[0m\u001b[0;34m\u001b[0m\u001b[0m\n",
            "\u001b[0;31mKeyboardInterrupt\u001b[0m: "
          ]
        }
      ]
    },
    {
      "cell_type": "code",
      "metadata": {
        "colab": {
          "base_uri": "https://localhost:8080/"
        },
        "id": "uwObPDZ3Turz",
        "outputId": "5ad79c0f-3d0e-451d-9b8e-02c3e010f506"
      },
      "source": [
        "res"
      ],
      "execution_count": null,
      "outputs": [
        {
          "output_type": "execute_result",
          "data": {
            "text/plain": [
              "[(101, 'CIV', 7802, 0.2926829268292683),\n",
              " (101, 'LKA', 8423, 0.2631578947368421),\n",
              " (101, 'BWA', 201, 0.3548387096774194),\n",
              " (101, 'VNM', 4201, 0.2857142857142857),\n",
              " (101, 'BRN', 2936, 0.47368421052631576),\n",
              " (101, 'ETH', 206, 0.38461538461538464),\n",
              " (101, 'BFA', 8704, 0.2413793103448276),\n",
              " (101, 0, 8704, 0),\n",
              " (101, 'AZE', 808, 0.2692307692307692),\n",
              " (101, 'PAK', 5101, 0.42105263157894735),\n",
              " (101, 'LBN', 3824, 0.3684210526315789),\n",
              " (101, 'CMR', 2201, 0.20454545454545456),\n",
              " (101, 'ABW', 3006, 0.4),\n",
              " (101, 'BRB', 9021, 0.47368421052631576),\n",
              " (101, 'SLB', 2309, 0.2564102564102564),\n",
              " (101, 'SWZ', 3502, 0.47368421052631576)]"
            ]
          },
          "metadata": {
            "tags": []
          },
          "execution_count": 155
        }
      ]
    },
    {
      "cell_type": "code",
      "metadata": {
        "id": "Sgm1b8MAakvJ"
      },
      "source": [],
      "execution_count": null,
      "outputs": []
    }
  ]
}